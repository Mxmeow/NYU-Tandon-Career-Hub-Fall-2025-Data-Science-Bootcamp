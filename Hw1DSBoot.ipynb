{
 "cells": [
  {
   "cell_type": "markdown",
   "id": "4bbaa657",
   "metadata": {},
   "source": [
    "1. Write a program that takes a word as an input and print the number of vowels in the word."
   ]
  },
  {
   "cell_type": "code",
   "execution_count": 10,
   "id": "e458028a",
   "metadata": {},
   "outputs": [
    {
     "name": "stdout",
     "output_type": "stream",
     "text": [
      "6\n",
      "4\n",
      "5\n"
     ]
    },
    {
     "data": {
      "text/plain": [
       "5"
      ]
     },
     "execution_count": 10,
     "metadata": {},
     "output_type": "execute_result"
    }
   ],
   "source": [
    "def num_vowels(word):\n",
    "    vowels = ['a','e','i','o','u']\n",
    "    total = 0\n",
    "    for cur in vowels:\n",
    "        total += word.count(cur)\n",
    "    print(total)\n",
    "    return total\n",
    "#Tests\n",
    "num_vowels(\"Meow meow meow\")\n",
    "num_vowels(\"Running from myself\")\n",
    "num_vowels(\"aeiou\")"
   ]
  },
  {
   "cell_type": "markdown",
   "id": "e95b1ac8",
   "metadata": {},
   "source": [
    "2. Iterate through the following list of animals and print each one in all caps.\n",
    "\n",
    "  animals=['tiger', 'elephant', 'monkey', 'zebra', 'panther']"
   ]
  },
  {
   "cell_type": "code",
   "execution_count": 12,
   "id": "c53372ea",
   "metadata": {},
   "outputs": [
    {
     "name": "stdout",
     "output_type": "stream",
     "text": [
      "TIGER\n",
      "ELEPHANT\n",
      "MONKEY\n",
      "ZEBRA\n",
      "PANTHER\n"
     ]
    }
   ],
   "source": [
    "animals=['tiger', 'elephant', 'monkey', 'zebra', 'panther']\n",
    "for animal in animals:\n",
    "    print(animal.upper())"
   ]
  },
  {
   "cell_type": "markdown",
   "id": "a88d1afc",
   "metadata": {},
   "source": [
    "3. Write a program that iterates from 1 to 20, printing each number and whether it's odd or even."
   ]
  },
  {
   "cell_type": "code",
   "execution_count": 16,
   "id": "69ffb532",
   "metadata": {},
   "outputs": [
    {
     "name": "stdout",
     "output_type": "stream",
     "text": [
      "1: odd\n",
      "2: even\n",
      "3: odd\n",
      "4: even\n",
      "5: odd\n",
      "6: even\n",
      "7: odd\n",
      "8: even\n",
      "9: odd\n",
      "10: even\n",
      "11: odd\n",
      "12: even\n",
      "13: odd\n",
      "14: even\n",
      "15: odd\n",
      "16: even\n",
      "17: odd\n",
      "18: even\n",
      "19: odd\n",
      "20: even\n"
     ]
    }
   ],
   "source": [
    "for i in range(20):\n",
    "    i += 1\n",
    "    if(i % 2 == 0):\n",
    "        print(f\"{i}: even\")\n",
    "    else:\n",
    "        print(f\"{i}: odd\")"
   ]
  },
  {
   "cell_type": "markdown",
   "id": "17458782",
   "metadata": {},
   "source": [
    "4. Write a program to check if a string is a palindrome or not."
   ]
  },
  {
   "cell_type": "code",
   "execution_count": 18,
   "id": "2b438a49",
   "metadata": {},
   "outputs": [
    {
     "name": "stdout",
     "output_type": "stream",
     "text": [
      "True\n",
      "False\n"
     ]
    }
   ],
   "source": [
    "def is_palindrome(palin):\n",
    "    if palin == palin[::-1]:\n",
    "        return True\n",
    "    return False\n",
    "word1 = \"tacocat\"\n",
    "word2 = 'pizza'\n",
    "print(is_palindrome(word1))\n",
    "print(is_palindrome(word2))"
   ]
  },
  {
   "cell_type": "markdown",
   "id": "90a354a6",
   "metadata": {},
   "source": [
    "5. Write a function sum_of_integers(a, b) that takes two integers as input from the user and returns their sum. (optional)"
   ]
  },
  {
   "cell_type": "code",
   "execution_count": 19,
   "id": "b1aa00b0",
   "metadata": {},
   "outputs": [
    {
     "name": "stdout",
     "output_type": "stream",
     "text": [
      "19\n"
     ]
    }
   ],
   "source": [
    "def sum_of_integers(a, b):\n",
    "    return a + b\n",
    "print(sum_of_integers(9, 10))"
   ]
  }
 ],
 "metadata": {
  "kernelspec": {
   "display_name": "Python 3",
   "language": "python",
   "name": "python3"
  },
  "language_info": {
   "codemirror_mode": {
    "name": "ipython",
    "version": 3
   },
   "file_extension": ".py",
   "mimetype": "text/x-python",
   "name": "python",
   "nbconvert_exporter": "python",
   "pygments_lexer": "ipython3",
   "version": "3.12.5"
  }
 },
 "nbformat": 4,
 "nbformat_minor": 5
}
